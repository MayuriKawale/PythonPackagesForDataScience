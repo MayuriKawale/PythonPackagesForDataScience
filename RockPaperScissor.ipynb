{
  "nbformat": 4,
  "nbformat_minor": 0,
  "metadata": {
    "colab": {
      "provenance": [],
      "authorship_tag": "ABX9TyOY4faxPi4gJ7P5HyqKlPW5",
      "include_colab_link": true
    },
    "kernelspec": {
      "name": "python3",
      "display_name": "Python 3"
    },
    "language_info": {
      "name": "python"
    }
  },
  "cells": [
    {
      "cell_type": "markdown",
      "metadata": {
        "id": "view-in-github",
        "colab_type": "text"
      },
      "source": [
        "<a href=\"https://colab.research.google.com/github/MayuriKawale/PythonPackagesForDataScience/blob/main/RockPaperScissor.ipynb\" target=\"_parent\"><img src=\"https://colab.research.google.com/assets/colab-badge.svg\" alt=\"Open In Colab\"/></a>"
      ]
    },
    {
      "cell_type": "markdown",
      "source": [
        "# Rock Paper Scissors\n",
        "We all have played the game *Rock Paper Scissors*\n",
        "The rules of the game are simple:\n",
        "\n",
        "\n",
        "1.   Rock wins Scissor\n",
        "2.   Scissor wins Paper\n",
        "3.   Paper wins Rock\n",
        "4.   Draw/Tie if both players pick the same gesture\n",
        "\n",
        "We will write a program to simulate the game using the python package **random** such that it picks random value of integer for two players and decides the winner following the rules of the game.\n",
        "\n",
        "Let's begin!\n",
        "\n"
      ],
      "metadata": {
        "id": "FB2oUrCWlmq4"
      }
    },
    {
      "cell_type": "code",
      "source": [
        "# First import the package\n",
        "import random"
      ],
      "metadata": {
        "id": "Ti64TKOTmhdD"
      },
      "execution_count": null,
      "outputs": []
    },
    {
      "cell_type": "code",
      "source": [
        "# define the gesture of each player by an integer\n",
        "# Say '2' represents 'Rock', '1' represents 'Scissor' and '0' represents Paper\n",
        "def gesture():\n",
        "  return random.randint(0,2)"
      ],
      "metadata": {
        "id": "XiZRn1TRmw8f"
      },
      "execution_count": null,
      "outputs": []
    },
    {
      "cell_type": "code",
      "source": [
        "def winner():\n",
        "  player1 = gesture()\n",
        "  player2 = gesture()\n",
        "  if player1 == player2:\n",
        "    print(\"Tie\")\n",
        "  elif player1==2 and player2==1 :\n",
        "    print(\"Rock wins Scissor, player 1 won\")\n",
        "  elif player1==1 and player2==2 :\n",
        "    print(\"Rock wins Scissor, player 2 won\")\n",
        "  elif player1==1 and player2==0 :\n",
        "    print(\"Scissor wins Paper, player 1 won\")\n",
        "  elif player1==0 and player2==1 :\n",
        "    print(\"Scissor wins Paper, player 2 won\")\n",
        "  elif player1==2 and player2==0 :\n",
        "    print(\"Paper wins Rock, player 2 won\")\n",
        "  else:\n",
        "    print(\"Paper wins Rock, player 1 won\")"
      ],
      "metadata": {
        "id": "Qpl8jhr2nuyM"
      },
      "execution_count": null,
      "outputs": []
    },
    {
      "cell_type": "code",
      "source": [
        "winner()"
      ],
      "metadata": {
        "colab": {
          "base_uri": "https://localhost:8080/"
        },
        "id": "QFe6LQGbpMT4",
        "outputId": "3b02c4fd-ed4c-48fa-a24d-b8c13c9974bf"
      },
      "execution_count": null,
      "outputs": [
        {
          "output_type": "stream",
          "name": "stdout",
          "text": [
            "Tie\n"
          ]
        }
      ]
    }
  ]
}