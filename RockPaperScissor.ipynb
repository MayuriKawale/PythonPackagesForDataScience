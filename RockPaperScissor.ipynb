{
  "nbformat": 4,
  "nbformat_minor": 0,
  "metadata": {
    "colab": {
      "provenance": [],
      "authorship_tag": "ABX9TyNAvMhiKER9J+axA89iQRPM",
      "include_colab_link": true
    },
    "kernelspec": {
      "name": "python3",
      "display_name": "Python 3"
    },
    "language_info": {
      "name": "python"
    }
  },
  "cells": [
    {
      "cell_type": "markdown",
      "metadata": {
        "id": "view-in-github",
        "colab_type": "text"
      },
      "source": [
        "<a href=\"https://colab.research.google.com/github/MayuriKawale/PythonPackagesForDataScience/blob/main/RockPaperScissor.ipynb\" target=\"_parent\"><img src=\"https://colab.research.google.com/assets/colab-badge.svg\" alt=\"Open In Colab\"/></a>"
      ]
    },
    {
      "cell_type": "markdown",
      "source": [
        "# Rock Paper Scissors\n",
        "We all have played the game *Rock Paper Scissors*\n",
        "The rules of the game are simple:\n",
        "\n",
        "\n",
        "1.   Rock wins Scissor\n",
        "2.   Scissor wins Paper\n",
        "3.   Paper wins Rock\n",
        "4.   Draw/Tie if both players pick the same gesture\n",
        "\n",
        "We will write a program to simulate the game using the python package **random** such that it picks random value of integer for two players and decides the winner following the rules of the game.\n",
        "\n",
        "Let's begin!\n",
        "\n"
      ],
      "metadata": {
        "id": "FB2oUrCWlmq4"
      }
    },
    {
      "cell_type": "code",
      "source": [
        "# First import the package\n",
        "import random"
      ],
      "metadata": {
        "id": "Ti64TKOTmhdD"
      },
      "execution_count": 1,
      "outputs": []
    },
    {
      "cell_type": "code",
      "source": [
        "# define the gesture of each player by an integer\n",
        "# Say '2' represents 'Rock', '1' represents 'Scissor' and '0' represents Paper\n",
        "def gesture():\n",
        "  return random.randint(0,2) #randint returns integers including the limits"
      ],
      "metadata": {
        "id": "XiZRn1TRmw8f"
      },
      "execution_count": 2,
      "outputs": []
    },
    {
      "cell_type": "code",
      "source": [
        "def winner():\n",
        "  player1 = gesture()\n",
        "  player2 = gesture()\n",
        "  if player1 == player2:\n",
        "    print(\"Tie\")\n",
        "  elif player1==2 and player2==1 :\n",
        "    print(\"Rock wins Scissor, player 1 won\")\n",
        "  elif player1==1 and player2==2 :\n",
        "    print(\"Rock wins Scissor, player 2 won\")\n",
        "  elif player1==1 and player2==0 :\n",
        "    print(\"Scissor wins Paper, player 1 won\")\n",
        "  elif player1==0 and player2==1 :\n",
        "    print(\"Scissor wins Paper, player 2 won\")\n",
        "  elif player1==2 and player2==0 :\n",
        "    print(\"Paper wins Rock, player 2 won\")\n",
        "  else:\n",
        "    print(\"Paper wins Rock, player 1 won\")"
      ],
      "metadata": {
        "id": "Qpl8jhr2nuyM"
      },
      "execution_count": 3,
      "outputs": []
    },
    {
      "cell_type": "code",
      "source": [
        "winner()"
      ],
      "metadata": {
        "colab": {
          "base_uri": "https://localhost:8080/"
        },
        "id": "QFe6LQGbpMT4",
        "outputId": "57f4f02c-ab3c-4bd9-f2e1-f0594e8f2b6c"
      },
      "execution_count": 8,
      "outputs": [
        {
          "output_type": "stream",
          "name": "stdout",
          "text": [
            "Paper wins Rock, player 1 won\n"
          ]
        }
      ]
    },
    {
      "cell_type": "markdown",
      "source": [
        "Now let's take this a step further. The players will play the game for say, **N** times and then decide the winner based on the maximum wins."
      ],
      "metadata": {
        "id": "uYcbubptsHe5"
      }
    },
    {
      "cell_type": "code",
      "source": [
        "# modify the previous function to return the information of winner\n",
        "\n",
        "def winner_info():\n",
        "  player1 = gesture()\n",
        "  player2 = gesture()\n",
        "  if player1 == player2:\n",
        "    return 'Tie'\n",
        "  elif player1==2 and player2==1 :\n",
        "    return 'player1'\n",
        "  elif player1==1 and player2==2 :\n",
        "    return 'player2'\n",
        "  elif player1==1 and player2==0 :\n",
        "    return 'player1'\n",
        "  elif player1==0 and player2==1 :\n",
        "    return 'player2'\n",
        "  elif player1==2 and player2==0 :\n",
        "    return 'player2'\n",
        "  else:\n",
        "    return 'player1'"
      ],
      "metadata": {
        "id": "Ks6Wcm5ktApJ"
      },
      "execution_count": 9,
      "outputs": []
    },
    {
      "cell_type": "code",
      "source": [
        "# Define a new function to decide the winner after N rounds\n",
        "def multiRound_game(n):\n",
        "  player1_wins = 0\n",
        "  player2_wins = 0\n",
        "  for i in range(n):\n",
        "    player = winner_info()\n",
        "    if player == 'player1':\n",
        "      player1_wins += 1\n",
        "    elif player == 'player2':\n",
        "      player2_wins += 1\n",
        "  if player1_wins == player2_wins:\n",
        "    print(\"It was a draw\")\n",
        "  elif player1_wins > player1_wins:\n",
        "    print(\"Player 1 won\")\n",
        "  else:\n",
        "    print(\"Player 2 won\")"
      ],
      "metadata": {
        "id": "XU0--Jc6t91y"
      },
      "execution_count": 10,
      "outputs": []
    },
    {
      "cell_type": "code",
      "source": [
        "# play the game with multiple rounds\n",
        "multiRound_game(5)"
      ],
      "metadata": {
        "colab": {
          "base_uri": "https://localhost:8080/"
        },
        "id": "kGr42SXkvf5p",
        "outputId": "b0764456-7bbc-4424-8752-f633211f380f"
      },
      "execution_count": 12,
      "outputs": [
        {
          "output_type": "stream",
          "name": "stdout",
          "text": [
            "Player 2 won\n"
          ]
        }
      ]
    }
  ]
}