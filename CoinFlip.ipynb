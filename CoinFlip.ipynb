{
  "nbformat": 4,
  "nbformat_minor": 0,
  "metadata": {
    "colab": {
      "provenance": [],
      "authorship_tag": "ABX9TyP3zH0q3eOYuz27uhqXcnqi",
      "include_colab_link": true
    },
    "kernelspec": {
      "name": "python3",
      "display_name": "Python 3"
    },
    "language_info": {
      "name": "python"
    }
  },
  "cells": [
    {
      "cell_type": "markdown",
      "metadata": {
        "id": "view-in-github",
        "colab_type": "text"
      },
      "source": [
        "<a href=\"https://colab.research.google.com/github/MayuriKawale/PythonPackagesForDataScience/blob/main/CoinFlip.ipynb\" target=\"_parent\"><img src=\"https://colab.research.google.com/assets/colab-badge.svg\" alt=\"Open In Colab\"/></a>"
      ]
    },
    {
      "cell_type": "markdown",
      "source": [
        "Let's simulate coin flip using a *random* generator.\n",
        "\n",
        "\n",
        "1.   If value >= 0.5, it's head\n",
        "2.   If value < 0.5, it's tail\n",
        "\n",
        "Let's flip!"
      ],
      "metadata": {
        "id": "TsFsK5-XzDBK"
      }
    },
    {
      "cell_type": "code",
      "source": [
        "# import the package\n",
        "import random"
      ],
      "metadata": {
        "id": "kGO1KgKXzsRR"
      },
      "execution_count": 1,
      "outputs": []
    },
    {
      "cell_type": "code",
      "source": [
        "# define the coin flip function\n",
        "\n",
        "def coin_flip():\n",
        "  if random.random() >= 0.5:\n",
        "    return 'head'\n",
        "  else:\n",
        "    return 'tail'"
      ],
      "metadata": {
        "id": "MUIFz5DXzvcY"
      },
      "execution_count": 2,
      "outputs": []
    },
    {
      "cell_type": "code",
      "source": [
        "coin_flip()"
      ],
      "metadata": {
        "colab": {
          "base_uri": "https://localhost:8080/",
          "height": 35
        },
        "id": "4xRYhjYTz-Ec",
        "outputId": "ff48396d-cf16-436b-eee0-14d930bcf80d"
      },
      "execution_count": 16,
      "outputs": [
        {
          "output_type": "execute_result",
          "data": {
            "text/plain": [
              "'tail'"
            ],
            "application/vnd.google.colaboratory.intrinsic+json": {
              "type": "string"
            }
          },
          "metadata": {},
          "execution_count": 16
        }
      ]
    },
    {
      "cell_type": "markdown",
      "source": [
        "We know how to flip the coin once, let's simulate the process of flipping the coin multiple times and decide where the coin is biased or not."
      ],
      "metadata": {
        "id": "vY4L4o_30CmR"
      }
    },
    {
      "cell_type": "code",
      "source": [
        "def multiple_flips(n):\n",
        "  total_heads = 0\n",
        "  total_tails = 0\n",
        "  for i in range(n):\n",
        "    result = coin_flip()\n",
        "    if result == 'head':\n",
        "      total_heads += 1\n",
        "    else:\n",
        "      total_tails += 1\n",
        "  if total_heads == total_tails:\n",
        "    print(\"It is a perfect coin!\")\n",
        "  else:\n",
        "    print(\"No. of heads:\", total_heads , \"No. of tails:\", total_tails , \"The coin is biased!\")"
      ],
      "metadata": {
        "id": "iRdEQs0l0Ts0"
      },
      "execution_count": 18,
      "outputs": []
    },
    {
      "cell_type": "code",
      "source": [
        "multiple_flips(10000)"
      ],
      "metadata": {
        "colab": {
          "base_uri": "https://localhost:8080/"
        },
        "id": "-jWIh60y1Ye7",
        "outputId": "5d115e20-4790-44ab-98cd-ce93f8bef307"
      },
      "execution_count": 27,
      "outputs": [
        {
          "output_type": "stream",
          "name": "stdout",
          "text": [
            "No. of heads: 4929 No. of tails: 5071 The coin is biased!\n"
          ]
        }
      ]
    }
  ]
}